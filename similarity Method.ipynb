{
 "cells": [
  {
   "cell_type": "code",
   "execution_count": 9,
   "metadata": {},
   "outputs": [
    {
     "name": "stdout",
     "output_type": "stream",
     "text": [
      "I like my phone :: I like my phone => distance = 0.0\n",
      "I like my phone :: my phone I like => distance = 0.0\n",
      "I like my phone :: My phone is not good . => distance = 2.01546974308747\n",
      "I like my phone :: My phone is worst. => distance = 2.606456910390191\n",
      "I like my phone :: Your cellphone looks great . => distance = 2.401168485166906\n",
      "I like my phone :: your mobile is good. => distance = 2.950733617902902\n",
      "I like my phone :: Will it snow tomorrow ? => distance = 3.1231311318678485\n",
      "I like my phone :: Recently a lot of hurricanes have hit the US => distance = 2.908519617362741\n",
      "I like my phone :: Global warming is real => distance = 4.259276590061977\n",
      "I like my phone :: An apple a day keeps the doctors away => distance = 2.857101232224022\n",
      "I like my phone :: Eating strawberries is healthy => distance = 4.323844870689156\n",
      "I like my phone :: Is paleo better than keto ? => distance = 3.5431317941301996\n",
      "I like my phone :: How old are you ? => distance = 2.735568537071432\n",
      "I like my phone :: what is your age ? => distance = 2.9697257126574335\n",
      "my phone I like :: my phone I like => distance = 0.0\n",
      "my phone I like :: My phone is not good . => distance = 2.01546974308747\n",
      "my phone I like :: My phone is worst. => distance = 2.606456910390191\n",
      "my phone I like :: Your cellphone looks great . => distance = 2.401168485166906\n",
      "my phone I like :: your mobile is good. => distance = 2.950733617902902\n",
      "my phone I like :: Will it snow tomorrow ? => distance = 3.1231311318678485\n",
      "my phone I like :: Recently a lot of hurricanes have hit the US => distance = 2.908519617362741\n",
      "my phone I like :: Global warming is real => distance = 4.259276590061977\n",
      "my phone I like :: An apple a day keeps the doctors away => distance = 2.857101232224022\n",
      "my phone I like :: Eating strawberries is healthy => distance = 4.323844870689156\n",
      "my phone I like :: Is paleo better than keto ? => distance = 3.5431317941301996\n",
      "my phone I like :: How old are you ? => distance = 2.735568537071432\n",
      "my phone I like :: what is your age ? => distance = 2.9697257126574335\n",
      "My phone is not good . :: My phone is not good . => distance = 0.0\n",
      "My phone is not good . :: My phone is worst. => distance = 2.2566207781106224\n",
      "My phone is not good . :: Your cellphone looks great . => distance = 1.5525229794603321\n",
      "My phone is not good . :: your mobile is good. => distance = 2.1948835351251277\n",
      "My phone is not good . :: Will it snow tomorrow ? => distance = 2.492897362530515\n",
      "My phone is not good . :: Recently a lot of hurricanes have hit the US => distance = 2.2880621460720376\n",
      "My phone is not good . :: Global warming is real => distance = 3.3702638891070906\n",
      "My phone is not good . :: An apple a day keeps the doctors away => distance = 2.0845457641210476\n",
      "My phone is not good . :: Eating strawberries is healthy => distance = 3.6559099408300533\n",
      "My phone is not good . :: Is paleo better than keto ? => distance = 2.818662888246137\n",
      "My phone is not good . :: How old are you ? => distance = 2.1410733798345056\n",
      "My phone is not good . :: what is your age ? => distance = 2.0757111500124297\n",
      "My phone is worst. :: My phone is worst. => distance = 0.0\n",
      "My phone is worst. :: Your cellphone looks great . => distance = 2.443962276510526\n",
      "My phone is worst. :: your mobile is good. => distance = 2.173906019665343\n",
      "My phone is worst. :: Will it snow tomorrow ? => distance = 3.2442788091496473\n",
      "My phone is worst. :: Recently a lot of hurricanes have hit the US => distance = 2.996392648650492\n",
      "My phone is worst. :: Global warming is real => distance = 3.8334116059372105\n",
      "My phone is worst. :: An apple a day keeps the doctors away => distance = 2.7593784891194653\n",
      "My phone is worst. :: Eating strawberries is healthy => distance = 4.150263669705938\n",
      "My phone is worst. :: Is paleo better than keto ? => distance = 3.244233630032198\n",
      "My phone is worst. :: How old are you ? => distance = 3.2160188388070994\n",
      "My phone is worst. :: what is your age ? => distance = 3.025026721520255\n",
      "Your cellphone looks great . :: Your cellphone looks great . => distance = 0.0\n",
      "Your cellphone looks great . :: your mobile is good. => distance = 1.971591178677511\n",
      "Your cellphone looks great . :: Will it snow tomorrow ? => distance = 2.7290827724228475\n",
      "Your cellphone looks great . :: Recently a lot of hurricanes have hit the US => distance = 2.5254928203984046\n",
      "Your cellphone looks great . :: Global warming is real => distance = 3.5009327977608273\n",
      "Your cellphone looks great . :: An apple a day keeps the doctors away => distance = 2.330211205561685\n",
      "Your cellphone looks great . :: Eating strawberries is healthy => distance = 3.8034080014269174\n",
      "Your cellphone looks great . :: Is paleo better than keto ? => distance = 3.070401456674643\n",
      "Your cellphone looks great . :: How old are you ? => distance = 2.4079527112113275\n",
      "Your cellphone looks great . :: what is your age ? => distance = 2.3157969825931812\n",
      "your mobile is good. :: your mobile is good. => distance = 0.0\n",
      "your mobile is good. :: Will it snow tomorrow ? => distance = 3.079817722247906\n",
      "your mobile is good. :: Recently a lot of hurricanes have hit the US => distance = 2.929354554361213\n",
      "your mobile is good. :: Global warming is real => distance = 3.459280308151496\n",
      "your mobile is good. :: An apple a day keeps the doctors away => distance = 2.6639445204816923\n",
      "your mobile is good. :: Eating strawberries is healthy => distance = 3.863888809654384\n",
      "your mobile is good. :: Is paleo better than keto ? => distance = 3.126629175698207\n",
      "your mobile is good. :: How old are you ? => distance = 2.8723688586547995\n",
      "your mobile is good. :: what is your age ? => distance = 2.5694481188062603\n",
      "Will it snow tomorrow ? :: Will it snow tomorrow ? => distance = 0.0\n",
      "Will it snow tomorrow ? :: Recently a lot of hurricanes have hit the US => distance = 2.6186920301657706\n",
      "Will it snow tomorrow ? :: Global warming is real => distance = 3.5692877485813703\n",
      "Will it snow tomorrow ? :: An apple a day keeps the doctors away => distance = 2.5445283589024794\n",
      "Will it snow tomorrow ? :: Eating strawberries is healthy => distance = 3.7934576370254556\n",
      "Will it snow tomorrow ? :: Is paleo better than keto ? => distance = 3.006212448133502\n",
      "Will it snow tomorrow ? :: How old are you ? => distance = 2.3956079356462565\n",
      "Will it snow tomorrow ? :: what is your age ? => distance = 2.491456802985077\n",
      "Recently a lot of hurricanes have hit the US :: Recently a lot of hurricanes have hit the US => distance = 0.0\n",
      "Recently a lot of hurricanes have hit the US :: Global warming is real => distance = 3.1208621885812278\n",
      "Recently a lot of hurricanes have hit the US :: An apple a day keeps the doctors away => distance = 2.0266097646893195\n",
      "Recently a lot of hurricanes have hit the US :: Eating strawberries is healthy => distance = 3.763334193176551\n",
      "Recently a lot of hurricanes have hit the US :: Is paleo better than keto ? => distance = 3.0043687301488484\n",
      "Recently a lot of hurricanes have hit the US :: How old are you ? => distance = 2.292022007161565\n",
      "Recently a lot of hurricanes have hit the US :: what is your age ? => distance = 2.5316666793993785\n",
      "Global warming is real :: Global warming is real => distance = 0.0\n",
      "Global warming is real :: An apple a day keeps the doctors away => distance = 3.297717260151897\n",
      "Global warming is real :: Eating strawberries is healthy => distance = 4.248223322488281\n",
      "Global warming is real :: Is paleo better than keto ? => distance = 3.5672030583461227\n",
      "Global warming is real :: How old are you ? => distance = 3.5205797661664433\n",
      "Global warming is real :: what is your age ? => distance = 3.256285284431312\n",
      "An apple a day keeps the doctors away :: An apple a day keeps the doctors away => distance = 0.0\n",
      "An apple a day keeps the doctors away :: Eating strawberries is healthy => distance = 3.2713877985061584\n",
      "An apple a day keeps the doctors away :: Is paleo better than keto ? => distance = 2.901158368903715\n",
      "An apple a day keeps the doctors away :: How old are you ? => distance = 2.383894702591969\n",
      "An apple a day keeps the doctors away :: what is your age ? => distance = 2.3234444528064544\n",
      "Eating strawberries is healthy :: Eating strawberries is healthy => distance = 0.0\n",
      "Eating strawberries is healthy :: Is paleo better than keto ? => distance = 3.3205589245163165\n",
      "Eating strawberries is healthy :: How old are you ? => distance = 3.7211502842213764\n",
      "Eating strawberries is healthy :: what is your age ? => distance = 3.665039044375599\n",
      "Is paleo better than keto ? :: Is paleo better than keto ? => distance = 0.0\n",
      "Is paleo better than keto ? :: How old are you ? => distance = 2.7370018986880473\n",
      "Is paleo better than keto ? :: what is your age ? => distance = 2.727869270334194\n",
      "How old are you ? :: How old are you ? => distance = 0.0\n",
      "How old are you ? :: what is your age ? => distance = 1.6862671275442997\n",
      "what is your age ? :: what is your age ? => distance = 0.0\n"
     ]
    }
   ],
   "source": [
    "#!/usr/bin/python3\n",
    "\n",
    "#\n",
    "#  Copyright 2016-2018 Peter de Vocht\n",
    "#\n",
    "#  Licensed under the Apache License, Version 2.0 (the \"License\");\n",
    "#  you may not use this file except in compliance with the License.\n",
    "#  You may obtain a copy of the License at\n",
    "#\n",
    "#      http://www.apache.org/licenses/LICENSE-2.0\n",
    "#\n",
    "#  Unless required by applicable law or agreed to in writing, software\n",
    "#  distributed under the License is distributed on an \"AS IS\" BASIS,\n",
    "#  WITHOUT WARRANTIES OR CONDITIONS OF ANY KIND, either express or implied.\n",
    "#  See the License for the specific language governing permissions and\n",
    "#  limitations under the License.\n",
    "\n",
    "import spacy\n",
    "import math\n",
    "from sentence2vec import Word, Sentence, sentence_to_vec\n",
    "\n",
    "# use the spacy large model's vectors for testing semantic relatedness\n",
    "# this assumes you've already installed the large model, if not download it and pip install it:\n",
    "# wget https://github.com/explosion/spacy-models/releases/tag/en_core_web_lg-2.0.0\n",
    "# pip install en_core_web_lg-2.0.0.tar.gz\n",
    "nlp = spacy.load('en_core_web_lg')\n",
    "\n",
    "\n",
    "# euclidean distance between two vectors\n",
    "def l2_dist(v1, v2):\n",
    "    sum = 0.0\n",
    "    if len(v1) == len(v2):\n",
    "        for i in range(len(v1)):\n",
    "            delta = v1[i] - v2[i]\n",
    "            sum += delta * delta\n",
    "        return math.sqrt(sum)\n",
    "\n",
    "\n",
    "if __name__ == '__main__':\n",
    "\n",
    "    embedding_size = 300   # dimension of spacy word embeddings\n",
    "\n",
    "    # load some simple sentences for testing similarities between\n",
    "    sentences = []\n",
    "    with open('semantic_test_text.txt') as reader:\n",
    "        for line in reader:\n",
    "            if len(line.strip()) > 0:\n",
    "                sentences.append(line.strip().split(' '))\n",
    "\n",
    "    # convert the above sentences to vectors using spacy's large model vectors\n",
    "    sentence_list = []\n",
    "    for sentence in sentences:\n",
    "        word_list = []\n",
    "        for word in sentence:\n",
    "            token = nlp.vocab[word]\n",
    "            if token.has_vector:  # ignore OOVs\n",
    "                word_list.append(Word(word, token.vector))\n",
    "        if len(word_list) > 0:  # did we find any words (not an empty set)\n",
    "            sentence_list.append(Sentence(word_list))\n",
    "\n",
    "    # apply single sentence word embedding\n",
    "    sentence_vector_lookup = dict()\n",
    "    sentence_vectors = sentence_to_vec(sentence_list, embedding_size)  # all vectors converted together\n",
    "    if len(sentence_vectors) == len(sentence_list):\n",
    "        for i in range(len(sentence_vectors)):\n",
    "            # map: text of the sentence -> vector\n",
    "            sentence_vector_lookup[sentence_list[i].__str__()] = sentence_vectors[i]\n",
    "\n",
    "    # display similarity between each of the sentences\n",
    "    sentence_seen = set()\n",
    "    # go through each sentence and compare it with each other sentence\n",
    "    for text1, vector1 in sentence_vector_lookup.items():\n",
    "        for text2, vector2 in sentence_vector_lookup.items():\n",
    "            if text1 < text2:  # don't repeat combinations already seen\n",
    "                unique = text1 + ':' + text2\n",
    "            else:\n",
    "                unique = text2 + ':' + text1\n",
    "\n",
    "            if not unique in sentence_seen:\n",
    "                sentence_seen.add(unique)\n",
    "                print(text1 + ' :: ' + text2 + ' => distance = ' + str(l2_dist(vector1, vector2)))\n",
    "\n",
    "\n",
    "\n"
   ]
  },
  {
   "cell_type": "code",
   "execution_count": 12,
   "metadata": {},
   "outputs": [
    {
     "name": "stdout",
     "output_type": "stream",
     "text": [
      "distance = 0.811\n"
     ]
    }
   ],
   "source": [
    "import gensim\n",
    "model = gensim.models.KeyedVectors.load_word2vec_format('../../../Downloads/GoogleNews-vectors-negative300.bin', binary=True)\n",
    "#two sample sentences \n",
    "s1 = 'the first sentence'\n",
    "s2 = 'the second text'\n",
    "\n",
    "#calculate distance between two sentences using WMD algorithm\n",
    "distance = model.wmdistance(s1, s2)\n",
    "\n",
    "print ('distance = %.3f' % distance)"
   ]
  },
  {
   "cell_type": "code",
   "execution_count": 23,
   "metadata": {},
   "outputs": [
    {
     "name": "stdout",
     "output_type": "stream",
     "text": [
      "distance = 2.090\n"
     ]
    }
   ],
   "source": [
    "s1 = 'how are you'\n",
    "s2 = 'how u doing'\n",
    "\n",
    "#calculate distance between two sentences using WMD algorithm\n",
    "distance = model.wmdistance(s1, s2)\n",
    "\n",
    "print ('distance = %.3f' % distance)"
   ]
  },
  {
   "cell_type": "code",
   "execution_count": 15,
   "metadata": {},
   "outputs": [],
   "source": [
    "model.wmdistance?"
   ]
  },
  {
   "cell_type": "code",
   "execution_count": 29,
   "metadata": {},
   "outputs": [
    {
     "name": "stderr",
     "output_type": "stream",
     "text": [
      "/anaconda3/lib/python3.6/site-packages/ipykernel_launcher.py:4: DeprecationWarning: Call to deprecated `wv` (Attribute will be removed in 4.0.0, use self instead).\n",
      "  after removing the cwd from sys.path.\n"
     ]
    },
    {
     "data": {
      "text/plain": [
       "0.4603602831383301"
      ]
     },
     "execution_count": 29,
     "metadata": {},
     "output_type": "execute_result"
    }
   ],
   "source": [
    "s1 = 'the first sentence'\n",
    "s2 = 'the second text'\n",
    "\n",
    "distance = model.wv.n_similarity(s1.lower().split(), s2.lower().split())\n",
    "distance"
   ]
  },
  {
   "cell_type": "code",
   "execution_count": null,
   "metadata": {},
   "outputs": [],
   "source": []
  }
 ],
 "metadata": {
  "kernelspec": {
   "display_name": "Python 3",
   "language": "python",
   "name": "python3"
  },
  "language_info": {
   "codemirror_mode": {
    "name": "ipython",
    "version": 3
   },
   "file_extension": ".py",
   "mimetype": "text/x-python",
   "name": "python",
   "nbconvert_exporter": "python",
   "pygments_lexer": "ipython3",
   "version": "3.6.4"
  }
 },
 "nbformat": 4,
 "nbformat_minor": 2
}
