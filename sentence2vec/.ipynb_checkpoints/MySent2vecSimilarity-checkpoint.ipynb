{
 "cells": [
  {
   "cell_type": "code",
   "execution_count": 2,
   "metadata": {},
   "outputs": [
    {
     "data": {
      "text/plain": [
       "\"\\n    # display similarity between each of the sentences\\n    sentence_seen = set()\\n    # go through each sentence and compare it with each other sentence\\n    for text1, vector1 in sentence_vector_lookup.items():\\n        for text2, vector2 in sentence_vector_lookup.items():\\n            if text1 < text2:  # don't repeat combinations already seen\\n                unique = text1 + ':' + text2\\n            else:\\n                unique = text2 + ':' + text1\\n\\n            if not unique in sentence_seen:\\n                sentence_seen.add(unique)\\n                print(text1 + ' :: ' + text2 + ' => distance = ' + str(l2_dist(vector1, vector2)))\\n\""
      ]
     },
     "execution_count": 2,
     "metadata": {},
     "output_type": "execute_result"
    }
   ],
   "source": [
    "#!/usr/bin/python3\n",
    "\n",
    "#\n",
    "#  Copyright 2016-2018 Peter de Vocht\n",
    "#\n",
    "#  Licensed under the Apache License, Version 2.0 (the \"License\");\n",
    "#  you may not use this file except in compliance with the License.\n",
    "#  You may obtain a copy of the License at\n",
    "#\n",
    "#      http://www.apache.org/licenses/LICENSE-2.0\n",
    "#\n",
    "#  Unless required by applicable law or agreed to in writing, software\n",
    "#  distributed under the License is distributed on an \"AS IS\" BASIS,\n",
    "#  WITHOUT WARRANTIES OR CONDITIONS OF ANY KIND, either express or implied.\n",
    "#  See the License for the specific language governing permissions and\n",
    "#  limitations under the License.\n",
    "\n",
    "import spacy\n",
    "import math\n",
    "from sentence2vec import Word, Sentence, sentence_to_vec\n",
    "\n",
    "# use the spacy large model's vectors for testing semantic relatedness\n",
    "# this assumes you've already installed the large model, if not download it and pip install it:\n",
    "# wget https://github.com/explosion/spacy-models/releases/tag/en_core_web_lg-2.0.0\n",
    "# pip install en_core_web_lg-2.0.0.tar.gz\n",
    "nlp = spacy.load('en_core_web_lg')\n",
    "\n",
    "\n",
    "# euclidean distance between two vectors\n",
    "def l2_dist(v1, v2):\n",
    "    sum = 0.0\n",
    "    if len(v1) == len(v2):\n",
    "        for i in range(len(v1)):\n",
    "            delta = v1[i] - v2[i]\n",
    "            sum += delta * delta\n",
    "        return math.sqrt(sum)\n",
    "\n",
    "\n",
    "if __name__ == '__main__':\n",
    "\n",
    "    embedding_size = 300   # dimension of spacy word embeddings\n",
    "\n",
    "    # load some simple sentences for testing similarities between\n",
    "    sentences = []\n",
    "    with open('semantic_test_text.txt') as reader:\n",
    "        for line in reader:\n",
    "            if len(line.strip()) > 0:\n",
    "                sentences.append(line.strip().split(' '))\n",
    "\n",
    "    # convert the above sentences to vectors using spacy's large model vectors\n",
    "    sentence_list = []\n",
    "    for sentence in sentences:\n",
    "        word_list = []\n",
    "        for word in sentence:\n",
    "            token = nlp.vocab[word]\n",
    "            if token.has_vector:  # ignore OOVs\n",
    "                word_list.append(Word(word, token.vector))\n",
    "        if len(word_list) > 0:  # did we find any words (not an empty set)\n",
    "            sentence_list.append(Sentence(word_list))\n",
    "\n",
    "    # apply single sentence word embedding\n",
    "    sentence_vector_lookup = dict()\n",
    "    #print(\"sentence_list: \",sentence_list)\n",
    "    #print(type(sentence_list))\n",
    "\n",
    "    sentence_vectors = sentence_to_vec(sentence_list, embedding_size)  # all vectors converted together\n",
    "    #print(sentence_vectors)\n",
    "    if len(sentence_vectors) == len(sentence_list):\n",
    "        for i in range(len(sentence_vectors)):\n",
    "            # map: text of the sentence -> vector\n",
    "            #print(sentence_list[i].__str__())\n",
    "            #print(sentence_vectors[i])\n",
    "            sentence_vector_lookup[sentence_list[i].__str__()] = sentence_vectors[i]\n",
    "\"\"\"\n",
    "    # display similarity between each of the sentences\n",
    "    sentence_seen = set()\n",
    "    # go through each sentence and compare it with each other sentence\n",
    "    for text1, vector1 in sentence_vector_lookup.items():\n",
    "        for text2, vector2 in sentence_vector_lookup.items():\n",
    "            if text1 < text2:  # don't repeat combinations already seen\n",
    "                unique = text1 + ':' + text2\n",
    "            else:\n",
    "                unique = text2 + ':' + text1\n",
    "\n",
    "            if not unique in sentence_seen:\n",
    "                sentence_seen.add(unique)\n",
    "                print(text1 + ' :: ' + text2 + ' => distance = ' + str(l2_dist(vector1, vector2)))\n",
    "\"\"\"\n"
   ]
  },
  {
   "cell_type": "code",
   "execution_count": null,
   "metadata": {},
   "outputs": [],
   "source": [
    "\n",
    "sentences_test = []\n",
    "with open('test.txt') as reader:\n",
    "    for line in reader:\n",
    "        if len(line.strip()) > 0:\n",
    "            sentences_test.append(line.strip().split(' '))\n",
    "\n",
    "    # convert the above sentences to vectors using spacy's large model vectors\n",
    "sentence_list_test = []\n",
    "for sentence in sentences_test:\n",
    "    word_list_test = []\n",
    "    for word in sentence:\n",
    "        token = nlp.vocab[word]\n",
    "        if token.has_vector:  # ignore OOVs\n",
    "            word_list_test.append(Word(word, token.vector))\n",
    "    if len(word_list_test) > 0:  # did we find any words (not an empty set)\n",
    "        sentence_list_test.append(Sentence(word_list_test))\n",
    "\n",
    "# apply single sentence word embedding\n",
    "sentence_vector_lookup_test = dict()\n",
    "#print(\"sentence_list: \",sentence_list_test)\n",
    "#print(type(sentence_list_test))"
   ]
  },
  {
   "cell_type": "code",
   "execution_count": 4,
   "metadata": {},
   "outputs": [
    {
     "name": "stderr",
     "output_type": "stream",
     "text": [
      "/anaconda3/lib/python3.6/site-packages/sklearn/decomposition/pca.py:423: RuntimeWarning: invalid value encountered in true_divide\n",
      "  explained_variance_ = (S ** 2) / (n_samples - 1)\n"
     ]
    }
   ],
   "source": [
    "sentence_vectors_test = sentence_to_vec(sentence_list_test, embedding_size)  "
   ]
  },
  {
   "cell_type": "code",
   "execution_count": 5,
   "metadata": {},
   "outputs": [],
   "source": [
    "sentence_vector_lookup_test = dict()\n",
    "\n",
    "if len(sentence_vectors_test) == len(sentence_list_test):\n",
    "        for i in range(len(sentence_vectors_test)):\n",
    "            # map: text of the sentence -> vector\n",
    "            sentence_vector_lookup_test[sentence_list_test[i].__str__()] = sentence_vectors_test[i]\n"
   ]
  },
  {
   "cell_type": "code",
   "execution_count": 8,
   "metadata": {},
   "outputs": [
    {
     "data": {
      "text/plain": [
       "[('mouse and becomes inoperable from newegg item is refurb day warranty m mouse with key board keyboard works fine just mouse',\n",
       "  0.565709043966099),\n",
       " ('mouse freezes and becomes paired with a keyboard and is refurbish item with a day warranty from newegg',\n",
       "  1.025416444666237),\n",
       " ('mouse up and is inoperable item with a on keyboard works fine a refurb item with warranty',\n",
       "  1.119718564138407)]"
      ]
     },
     "execution_count": 8,
     "metadata": {},
     "output_type": "execute_result"
    }
   ],
   "source": [
    "sentence_seen = set()\n",
    "result = dict()\n",
    "    # go through each sentence and compare it with each other sentence\n",
    "for text1, vector1 in sentence_vector_lookup_test.items():\n",
    "    for text2, vector2 in sentence_vector_lookup.items():\n",
    "        if text1 < text2:  # don't repeat combinations already seen\n",
    "            unique = text1 + ':' + text2\n",
    "        else:\n",
    "            unique = text2 + ':' + text1\n",
    "\n",
    "        if not unique in sentence_seen:\n",
    "            sentence_seen.add(unique)\n",
    "            distance = l2_dist(vector1, vector2)\n",
    "            #print(text1 + ' :: ' + text2 + ' => distance = ' + str(distance))\n",
    "            result[text2] = distance\n",
    "            \n",
    "from collections import OrderedDict\n",
    "d_sorted_by_value = OrderedDict(sorted(result.items(),  key=lambda x: x[1]))\n",
    "#d_sorted_by_value\n",
    "n_items = take(3, d_sorted_by_value.items())\n",
    "n_items"
   ]
  },
  {
   "cell_type": "code",
   "execution_count": 7,
   "metadata": {},
   "outputs": [],
   "source": [
    "from itertools import islice\n",
    " \n",
    "def take(n, iterable):\n",
    "    \"Return first n items of the iterable as a list\"\n",
    "    return list(islice(iterable, n))"
   ]
  },
  {
   "cell_type": "code",
   "execution_count": null,
   "metadata": {},
   "outputs": [],
   "source": []
  }
 ],
 "metadata": {
  "kernelspec": {
   "display_name": "Python 3",
   "language": "python",
   "name": "python3"
  },
  "language_info": {
   "codemirror_mode": {
    "name": "ipython",
    "version": 3
   },
   "file_extension": ".py",
   "mimetype": "text/x-python",
   "name": "python",
   "nbconvert_exporter": "python",
   "pygments_lexer": "ipython3",
   "version": "3.6.4"
  }
 },
 "nbformat": 4,
 "nbformat_minor": 2
}
